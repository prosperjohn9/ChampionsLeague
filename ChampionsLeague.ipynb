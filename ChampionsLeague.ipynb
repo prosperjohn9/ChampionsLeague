{
  "nbformat": 4,
  "nbformat_minor": 0,
  "metadata": {
    "colab": {
      "provenance": [],
      "authorship_tag": "ABX9TyNUZ9w23sEbxOXgoTd063aV",
      "include_colab_link": true
    },
    "kernelspec": {
      "name": "python3",
      "display_name": "Python 3"
    },
    "language_info": {
      "name": "python"
    }
  },
  "cells": [
    {
      "cell_type": "markdown",
      "metadata": {
        "id": "view-in-github",
        "colab_type": "text"
      },
      "source": [
        "<a href=\"https://colab.research.google.com/github/prosperjohn9/ChampionsLeague/blob/main/ChampionsLeague.ipynb\" target=\"_parent\"><img src=\"https://colab.research.google.com/assets/colab-badge.svg\" alt=\"Open In Colab\"/></a>"
      ]
    },
    {
      "cell_type": "markdown",
      "source": [
        "- 8 teams are seeded for the quarter finals in Champions League (CL).\n",
        "\n",
        "- The ties are determined by means of a draw.\n",
        "\n",
        "- We will find out all possible matches during the quarter finals.\n",
        "\n",
        "\n",
        "Assume that we have following teams to be matched:\n",
        "\n",
        "- *Roma, Barcelona, Juventus,\n",
        "Bayern Munich, Sevilla,\n",
        "Real Madrid, Manchester City, Liverpool*\n",
        "\n",
        "Let's first create the team list and basically print their names.\n"
      ],
      "metadata": {
        "id": "Rbu_OZPBbrcB"
      }
    },
    {
      "cell_type": "code",
      "execution_count": null,
      "metadata": {
        "colab": {
          "base_uri": "https://localhost:8080/"
        },
        "id": "MKPLb4M5boUD",
        "outputId": "be686b5e-f77a-42ba-8da6-01cbba881435"
      },
      "outputs": [
        {
          "output_type": "stream",
          "name": "stdout",
          "text": [
            "Roma - Barcelona\n",
            "Roma - Juventus\n",
            "Roma - Bayern Munich\n",
            "Roma - Sevilla\n",
            "Roma - Real Madrid\n",
            "Roma - Manchester City\n",
            "Roma - Liverpool\n",
            "Barcelona - Juventus\n",
            "Barcelona - Bayern Munich\n",
            "Barcelona - Sevilla\n",
            "Barcelona - Real Madrid\n",
            "Barcelona - Manchester City\n",
            "Barcelona - Liverpool\n",
            "Juventus - Bayern Munich\n",
            "Juventus - Sevilla\n",
            "Juventus - Real Madrid\n",
            "Juventus - Manchester City\n",
            "Juventus - Liverpool\n",
            "Bayern Munich - Sevilla\n",
            "Bayern Munich - Real Madrid\n",
            "Bayern Munich - Manchester City\n",
            "Bayern Munich - Liverpool\n",
            "Sevilla - Real Madrid\n",
            "Sevilla - Manchester City\n",
            "Sevilla - Liverpool\n",
            "Real Madrid - Manchester City\n",
            "Real Madrid - Liverpool\n",
            "Manchester City - Liverpool\n"
          ]
        }
      ],
      "source": [
        "# List of teams\n",
        "teams = [\"Roma\", \"Barcelona\", \"Juventus\", \"Bayern Munich\", \\\n",
        "         \"Sevilla\", \"Real Madrid\", \"Manchester City\", \"Liverpool\"]\n",
        "\n",
        "for i in range(len(teams)):       # For each team\n",
        "  team1 = teams[i]\n",
        "  for j in range(i + 1, len(teams)):\n",
        "    team2 = teams[j]\n",
        "    print(team1, \"-\", team2)\n"
      ]
    }
  ]
}